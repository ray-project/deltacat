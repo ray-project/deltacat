{
 "cells": [
  {
   "metadata": {},
   "cell_type": "markdown",
   "source": [
    "# PyTorch Demo: Sentiment Analysis and Question Detection with Rivulet Dataset\n",
    "\n",
    "This demo showcases how to process a dataset of messages to perform **sentiment analysis** and **question detection** using pre-trained transformer models from Hugging Face. Leveraging the `transformers` library and **DeltaCat** for efficient dataset management.\n",
    "\n",
    "**Data Handling with DeltaCat:**\n",
    "- **Importing Data:** Easily imports data from CSV files into a DeltaCat `Dataset`.\n",
    "- **Pytorch Integration:** Easily allows passing of data between pytorch models and transformers.\n",
    "- **Non-Destructive Transformation:** Transforms the data (e.g., adding sentiment and question classification) without modifying the original dataset.\n",
    "- **Exporting Data:** Exports the modified dataset to supported formats such as Parquet and JSON for further analysis."
   ],
   "id": "2fb18b4d46a9548"
  },
  {
   "metadata": {
    "collapsed": true
   },
   "cell_type": "code",
   "source": [
    "import torch\n",
    "from typing import List\n",
    "from transformers import AutoTokenizer, AutoModelForSequenceClassification\n",
    "import deltacat as dc\n",
    "import pathlib\n",
    "import pyarrow as pa\n",
    "import pyarrow.csv as csv"
   ],
   "id": "initial_id",
   "outputs": [],
   "execution_count": null
  },
  {
   "metadata": {},
   "cell_type": "code",
   "source": [
    "# Load tokenizer and model for sentiment analysis\n",
    "sentiment_tokenizer = AutoTokenizer.from_pretrained(\"distilbert-base-uncased-finetuned-sst-2-english\")\n",
    "sentiment_model = AutoModelForSequenceClassification.from_pretrained(\"distilbert-base-uncased-finetuned-sst-2-english\")\n",
    "sentiment_model.eval()\n",
    "\n",
    "question_tokenizer = AutoTokenizer.from_pretrained(\"shahrukhx01/question-vs-statement-classifier\")\n",
    "question_model = AutoModelForSequenceClassification.from_pretrained(\"shahrukhx01/question-vs-statement-classifier\")\n",
    "question_model.eval()"
   ],
   "id": "51a2ddaed83da5f3",
   "outputs": [],
   "execution_count": null
  },
  {
   "metadata": {},
   "cell_type": "code",
   "source": [
    "def compute_sentiments(batch: pa.RecordBatch) -> List[float]:\n",
    "    messages = batch.column(\"message\").to_pylist()\n",
    "\n",
    "    def predict_sentiment(texts: List[str]) -> List[float]:\n",
    "        inputs = sentiment_tokenizer(texts, return_tensors=\"pt\", padding=True, truncation=True)\n",
    "        with torch.no_grad():\n",
    "            outputs = sentiment_model(**inputs)\n",
    "        probs = torch.softmax(outputs.logits, dim=1)\n",
    "        return probs[:, 1].tolist()\n",
    "\n",
    "    return predict_sentiment(messages)"
   ],
   "id": "5b10e54bf945e8b4",
   "outputs": [],
   "execution_count": null
  },
  {
   "metadata": {},
   "cell_type": "code",
   "source": [
    "def compute_is_questions(batch: pa.RecordBatch) -> List[float]:\n",
    "    messages = batch.column(\"message\").to_pylist()\n",
    "\n",
    "    def predict_is_question(texts: List[str]) -> List[float]:\n",
    "        inputs = question_tokenizer(texts, return_tensors=\"pt\", padding=True, truncation=True)\n",
    "        with torch.no_grad():\n",
    "            outputs = question_model(**inputs)\n",
    "        probs = torch.softmax(outputs.logits, dim=1)\n",
    "        return probs[:, 1].tolist()\n",
    "\n",
    "    return predict_is_question(messages)"
   ],
   "id": "182efb4e811a0280",
   "outputs": [],
   "execution_count": null
  },
  {
   "metadata": {},
   "cell_type": "code",
   "source": [
    "# Create a rivulet dataset using the CSV file\n",
    "cwd = pathlib.Path.cwd()\n",
    "csv_file_path = cwd / \"data.csv\"\n",
    "ds = dc.Dataset.from_csv(\n",
    "    name=\"chat\",\n",
    "    file_uri=csv_file_path,\n",
    "    metadata_uri=cwd.as_uri(),\n",
    "    merge_keys=\"msg_id\"\n",
    ")\n",
    "ds.print(num_records=10)"
   ],
   "id": "b74792a57b9b28c1",
   "outputs": [],
   "execution_count": null
  },
  {
   "metadata": {},
   "cell_type": "code",
   "source": [
    "# define a new schema with fields for pytorch classification\n",
    "ds.add_fields([\n",
    "    (\"msg_id\", dc.Datatype.int64()),\n",
    "    (\"sentiment\", dc.Datatype.float()),\n",
    "    (\"is_question\", dc.Datatype.float())\n",
    "], schema_name=\"message_classifier\", merge_keys=[\"msg_id\"])"
   ],
   "id": "1b90411fd69378e9",
   "outputs": [],
   "execution_count": null
  },
  {
   "metadata": {},
   "cell_type": "code",
   "source": [
    "dataset_writer = ds.writer(schema_name=\"message_classifier\")\n",
    "for batch in ds.scan().to_arrow():\n",
    "    messages = batch.column(\"msg_id\").to_pylist()\n",
    "\n",
    "    # compute message data statistics\n",
    "    sentiments = compute_sentiments(batch)\n",
    "    is_questions = compute_is_questions(batch)\n",
    "\n",
    "    # construct columns for new fields using merge_key\n",
    "    new_columns_existing_rows = []\n",
    "    for idx, msg in enumerate(messages):\n",
    "        new_columns_existing_rows.append({\n",
    "            \"msg_id\": msg,\n",
    "            \"sentiment\": sentiments[idx],\n",
    "            \"is_question\": is_questions[idx]\n",
    "        })\n",
    "    dataset_writer.write(new_columns_existing_rows)\n",
    "\n",
    "dataset_writer.flush()\n",
    "print(\"Sentiment and is_question values have been computed and updated in the dataset.\")"
   ],
   "id": "587f17e09e5d306a",
   "outputs": [],
   "execution_count": null
  },
  {
   "metadata": {},
   "cell_type": "code",
   "source": [
    "# export to a supported format (JSON, PARQUET, FEATHER)\n",
    "ds.export(file_uri=\"./output.json\", format=\"json\")"
   ],
   "id": "8ef2dd2a1bc4e66a",
   "outputs": [],
   "execution_count": null
  }
 ],
 "metadata": {
  "kernelspec": {
   "display_name": "Python 3",
   "language": "python",
   "name": "python3"
  },
  "language_info": {
   "codemirror_mode": {
    "name": "ipython",
    "version": 2
   },
   "file_extension": ".py",
   "mimetype": "text/x-python",
   "name": "python",
   "nbconvert_exporter": "python",
   "pygments_lexer": "ipython2",
   "version": "2.7.6"
  }
 },
 "nbformat": 4,
 "nbformat_minor": 5
}
